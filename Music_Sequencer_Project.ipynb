{
 "cells": [
  {
   "cell_type": "markdown",
   "id": "f30a5a70",
   "metadata": {},
   "source": [
    "# MUSIC SEQUENCER\n",
    "### Final Project by Aryan Dixit for COGS 18 Fall 2023\n",
    "This project is an interface which allows music enthusiasts and musicians alike to design, synthesize and innovate novel variations of music. Using python libraries and software synthesizers such as *musicpy* and *fluidsynth*, this interface performs various music-related functions:\n",
    "\n",
    "1. Generate musical sequences of pseudo-random complex chord progressions in 3 Genres.\n",
    "2. Generate multi-instrumental musical symphonies based on sequence progressions.\n",
    "3. Mix pieces together utilising logic-based mixing across Genres and even compoundingly.\n",
    "4. Generate audio playback of MIDI files and produce waveform audio file output for download.\n",
    "\n",
    "Currently, the project is limited to 3 Genres, namely Jazz, Country and Pop. These three genres were chosen since they represent generally different forms of music theory in practice. In effect, this sequencer intends to serve the purpose of generating full-length musical rhythm and backing for songs, pieces, et cetera. It also aims to inspire lead instrument generation by providing a fully-synthesized background to compose on the basis of. This project will assist music enthusiasts and musicians in creating new songs faster and with greater variety outside of their expertise.\n",
    "\n",
    "Requirements:\n",
    "1. Fluidsynth\n",
    "2. MusicPy\n",
    "3. Random\n",
    "4. IPython (intended for Google Colab/Jupyter Notebook)"
   ]
  },
  {
   "cell_type": "code",
   "execution_count": null,
   "id": "dea4a9d7",
   "metadata": {},
   "outputs": [],
   "source": [
    "import modules.interface as interface\n",
    "from time import sleep\n",
    "import modules.music_sequencer as ms\n",
    "from IPython.display import Audio, display, FileLink\n",
    "import random\n",
    "running_bool = True #Initialise bool to check whether running\n",
    "musical_pieces = {} #Initialise dictionary of musical instances\n",
    "print('Welcome to Music Sequencer: An easy way to find that musical inspiration')\n",
    "sleep(3)\n",
    "\n",
    "#Loop to keep requesting user input until user inputs 'Q'\n",
    "while running_bool == True:\n",
    "    output = interface.user_interface(musical_pieces)\n",
    "    #User wishes to end session\n",
    "    if output == False:\n",
    "        running_bool = False\n",
    "        print('Thank you for using this project by Aryan Dixit.')\n",
    "        print('Terminating Now ...')\n",
    "        break\n",
    "    #Conditional to check whether output is Genre instance\n",
    "    if output != None:\n",
    "        #Add musical instance to dictionary musical_pieces\n",
    "        musical_pieces[output.name] = output"
   ]
  },
  {
   "cell_type": "markdown",
   "id": "04f91b41",
   "metadata": {},
   "source": [
    "### Extra Credit\n",
    "I learnt Python for a short period in high school, but was unable to do so post 10th grade. This course was particularly refreshing for me as it taught me better techniques and methods to code, as I am an International Studies - Economics major. In this project, I have gone beyond requirements by developing ~700 lines of original functions, methods, classes and code in order to create this project. This original code calls various libraries and builds on musicpy, a novel music analysis library. By utilising topics beyond those learnt in this course such as superclasses, I have learnt more through this project."
   ]
  },
  {
   "cell_type": "markdown",
   "id": "229c441e",
   "metadata": {},
   "source": [
    "### Github Extra Credit\n",
    "Public repo of Music Sequencer - https://github.com/sudoYan/Music-Sequencer/"
   ]
  }
 ],
 "metadata": {
  "kernelspec": {
   "display_name": "Python 3 (ipykernel)",
   "language": "python",
   "name": "python3"
  },
  "language_info": {
   "codemirror_mode": {
    "name": "ipython",
    "version": 3
   },
   "file_extension": ".py",
   "mimetype": "text/x-python",
   "name": "python",
   "nbconvert_exporter": "python",
   "pygments_lexer": "ipython3",
   "version": "3.9.5"
  }
 },
 "nbformat": 4,
 "nbformat_minor": 5
}
